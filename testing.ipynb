{
 "cells": [
  {
   "cell_type": "code",
   "execution_count": 16,
   "metadata": {},
   "outputs": [],
   "source": [
    "# Definition for a binary tree node.\n",
    "# from binarytree import Node\n",
    "class TreeNode:\n",
    "    def __init__(self, x):\n",
    "        self.val = x\n",
    "        self.left = None\n",
    "        self.right = None\n",
    "\n",
    "def insertLevelOrder(arr, i, n):\n",
    "\troot = None\n",
    "\tif i < n and arr[i] is not None:\n",
    "\t\troot = TreeNode(arr[i])\n",
    "\t\tl = insertLevelOrder(arr, 2 * i + 1, n)\n",
    "\t\tr = insertLevelOrder(arr, 2 * i + 2, n)\n",
    "\t\troot.left = l if l and l.val != None else None\n",
    "\t\troot.right = r if r and r.val != None else None\n",
    "\treturn root\n",
    "\n",
    "null = None\n",
    "arr = [1,3,2,5,null,null,9,6,null,7]\n",
    "n = len(arr)\n",
    "root = insertLevelOrder(arr, 0, n)"
   ]
  },
  {
   "cell_type": "code",
   "execution_count": 3,
   "metadata": {},
   "outputs": [
    {
     "name": "stdout",
     "output_type": "stream",
     "text": [
      "\n",
      "  3___\n",
      " /    \\\n",
      "9     _20\n",
      "     /   \\\n",
      "    15    7\n",
      "\n"
     ]
    }
   ],
   "source": [
    "from typing import List, Optional\n",
    "from binarytree import Node\n",
    "\n",
    "class Solution:\n",
    "    def buildTree(self, inorder: List[int], postorder: List[int]) -> Optional[TreeNode]:\n",
    "        \n",
    "        def dfs(inorder, postorder):\n",
    "            if not inorder:\n",
    "                return None\n",
    "            \n",
    "            inorder_val_vs_idx = {v:i for i,v in enumerate(inorder)}\n",
    "            val = postorder.pop()\n",
    "            node = Node(val)\n",
    "            m = inorder_val_vs_idx[val]\n",
    "            right_sub_tree = inorder[m+1:]\n",
    "            node.right = dfs(right_sub_tree, postorder)\n",
    "            left_sub_tree = inorder[:m]\n",
    "            node.left = dfs(left_sub_tree, postorder)\n",
    "            return node\n",
    "        \n",
    "        return dfs(inorder, postorder)\n",
    "res = Solution().buildTree(inorder = [9,3,15,20,7], postorder = [9,15,7,20,3])\n",
    "print(res)"
   ]
  },
  {
   "cell_type": "code",
   "execution_count": 1,
   "metadata": {},
   "outputs": [
    {
     "data": {
      "text/plain": [
       "14"
      ]
     },
     "execution_count": 1,
     "metadata": {},
     "output_type": "execute_result"
    }
   ],
   "source": [
    "from typing import List\n",
    "import heapq\n",
    "from collections import defaultdict\n",
    "\n",
    "class UnionFind:\n",
    "\n",
    "    def __init__(self, n):\n",
    "        self.parent = {i:i for i in range(n)}\n",
    "        self.rank = [1]*n\n",
    "    \n",
    "    def find(self, node):\n",
    "        if self.parent[node] != node:\n",
    "            self.parent[node] = self.find(self.parent[node])\n",
    "        return self.parent[node]\n",
    "\n",
    "    def union(self, n1, n2):\n",
    "        par1 = self.find(n1)\n",
    "        par2 = self.find(n2)\n",
    "\n",
    "        if par1 == par2:\n",
    "            return\n",
    "        \n",
    "        if self.rank[par1] >= self.rank[par2]:\n",
    "            self.parent[par2] = par1\n",
    "            self.rank[par1] += self.rank[par2]\n",
    "        else:\n",
    "            self.parent[par1] = par2\n",
    "            self.rank[par2] += self.rank[par1]\n",
    "\n",
    "class Solution:\n",
    "    def countPairs(self, n: int, edges: List[List[int]]) -> int:\n",
    "        uf = UnionFind(n)\n",
    "\n",
    "        for u,v in edges:\n",
    "            uf.union(u,v)\n",
    "        \n",
    "        groups = defaultdict(list)\n",
    "        for i in range(n):\n",
    "            par_i = uf.find(i)\n",
    "            heapq.heappush(groups[par_i],i)\n",
    "        \n",
    "        ans = 0\n",
    "        for i, heap_i in groups.items():\n",
    "            while heap_i:\n",
    "                val = heapq.heappop(heap_i)\n",
    "                rhs_nums = n - val - 1\n",
    "                rhs_nums = rhs_nums - len(heap_i)\n",
    "                ans += rhs_nums\n",
    "        return ans\n",
    "                \n",
    "Solution().countPairs(n = 7, edges = [[0,2],[0,5],[2,4],[1,6],[5,4]])"
   ]
  }
 ],
 "metadata": {
  "kernelspec": {
   "display_name": "ds_algo",
   "language": "python",
   "name": "python3"
  },
  "language_info": {
   "codemirror_mode": {
    "name": "ipython",
    "version": 3
   },
   "file_extension": ".py",
   "mimetype": "text/x-python",
   "name": "python",
   "nbconvert_exporter": "python",
   "pygments_lexer": "ipython3",
   "version": "3.10.8"
  },
  "orig_nbformat": 4,
  "vscode": {
   "interpreter": {
    "hash": "d6e6534732b0cc6de321123fbc0e1bab54051c5ddbdc5cde537ca817e83f04c4"
   }
  }
 },
 "nbformat": 4,
 "nbformat_minor": 2
}
