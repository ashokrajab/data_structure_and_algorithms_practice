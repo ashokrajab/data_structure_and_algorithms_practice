{
 "cells": [
  {
   "cell_type": "code",
   "execution_count": null,
   "metadata": {},
   "outputs": [],
   "source": [
    "from drawtree import draw_level_order\n",
    "draw_level_order('[4,1,null,2,null,3]'.replace('null','#'))\n"
   ]
  },
  {
   "cell_type": "code",
   "execution_count": 41,
   "metadata": {},
   "outputs": [
    {
     "data": {
      "text/plain": [
       "'zyaaax'"
      ]
     },
     "execution_count": 41,
     "metadata": {},
     "output_type": "execute_result"
    }
   ],
   "source": [
    "class Solution:\n",
    "    def minWindow(self, s: str, t: str) -> str:\n",
    "        if len(s) < len(t):\n",
    "            return \"\"\n",
    "        t_set = set(t)\n",
    "        t_map,s_map = {}, {}\n",
    "        res = []\n",
    "        ans = s\n",
    "        for c in t:\n",
    "            t_map[c] = 1 + t_map.get(c,0)\n",
    "        r=0\n",
    "        while r < len(s):\n",
    "            if len(t_map) == 0:\n",
    "                if len(res) < len(ans):\n",
    "                    ans = \"\".join(res)\n",
    "                \n",
    "                pop_val = res.pop(0)\n",
    "                s_map[pop_val] -= 1\n",
    "                if s_map[pop_val] == 0 and pop_val in t_set:\n",
    "                    t_map[pop_val] = 1\n",
    "                    \n",
    "                while len(res) > 0 and res[0] not in t_set:\n",
    "                    pop_val = res.pop(0)\n",
    "                    s_map[pop_val] -= 1\n",
    "                continue   \n",
    "                \n",
    "            char = s[r]\n",
    "            if t_map.get(char,None) != None:\n",
    "                res.append(char)\n",
    "                r += 1\n",
    "                s_map[char] = 1 + s_map.get(char,0)\n",
    "                t_map[char] -= 1\n",
    "                if t_map[char] == 0: \n",
    "                    del t_map[char]\n",
    "                \n",
    "            elif len(res)>0:\n",
    "                s_map[char] = 1 + s_map.get(char,0)\n",
    "                res.append(char)\n",
    "                r += 1\n",
    "            else:\n",
    "                r += 1\n",
    "        if len(res) < len(ans):\n",
    "            ans = \"\".join(res)\n",
    "        return ans\n",
    "                \n",
    "            \n",
    "Solution().minWindow(\"zyaaaxyxaz\",\"xyz\")"
   ]
  }
 ],
 "metadata": {
  "interpreter": {
   "hash": "09a305af7256f75703d46e5b69b0bef344ee9fc0bd9bbe7457f5ea3749cf0e7d"
  },
  "kernelspec": {
   "display_name": "Python 3.9.10 ('base')",
   "language": "python",
   "name": "python3"
  },
  "language_info": {
   "codemirror_mode": {
    "name": "ipython",
    "version": 3
   },
   "file_extension": ".py",
   "mimetype": "text/x-python",
   "name": "python",
   "nbconvert_exporter": "python",
   "pygments_lexer": "ipython3",
   "version": "3.9.10"
  },
  "orig_nbformat": 4
 },
 "nbformat": 4,
 "nbformat_minor": 2
}
