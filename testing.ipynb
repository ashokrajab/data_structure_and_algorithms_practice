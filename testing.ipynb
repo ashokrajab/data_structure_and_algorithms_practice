{
 "cells": [
  {
   "cell_type": "code",
   "execution_count": null,
   "metadata": {},
   "outputs": [],
   "source": [
    "from drawtree import draw_level_order\n",
    "draw_level_order('[4,1,null,2,null,3]'.replace('null','#'))\n"
   ]
  },
  {
   "cell_type": "code",
   "execution_count": 46,
   "metadata": {},
   "outputs": [
    {
     "data": {
      "text/plain": [
       "98"
      ]
     },
     "execution_count": 46,
     "metadata": {},
     "output_type": "execute_result"
    }
   ],
   "source": [
    "from collections import defaultdict\n",
    "from typing import List\n",
    "class Solution:\n",
    "    def maxCoins(self, nums: List[int]) -> int:\n",
    "        nums = [1] + nums + [1]\n",
    "        L,R = 1, len(nums)-2\n",
    "        dp = defaultdict(int)\n",
    "        def dfs(l,r):\n",
    "            if l>r:\n",
    "                return 0\n",
    "            if l==r:\n",
    "                return nums[l-1]*nums[l]*nums[l+1]\n",
    "            if (l,r) in dp:\n",
    "                return dp[(l,r)]\n",
    "            \n",
    "            for i in range(l,r+1):\n",
    "                dp[(l,r)]=max(dfs(l,i-1) + dfs(i,i) +dfs(i+1,r),dp[(l,r)])\n",
    "            \n",
    "            return dp[(l,r)]\n",
    "        \n",
    "        return dfs(L,R)\n",
    "            \n",
    "            \n",
    "\n",
    "Solution().maxCoins(nums = [3,1,5,8])"
   ]
  },
  {
   "cell_type": "code",
   "execution_count": 45,
   "metadata": {},
   "outputs": [
    {
     "data": {
      "text/plain": [
       "0"
      ]
     },
     "execution_count": 45,
     "metadata": {},
     "output_type": "execute_result"
    }
   ],
   "source": [
    "a  = defaultdict(int)\n",
    "a[4]"
   ]
  }
 ],
 "metadata": {
  "kernelspec": {
   "display_name": "Python 3.10.2 64-bit",
   "language": "python",
   "name": "python3"
  },
  "language_info": {
   "codemirror_mode": {
    "name": "ipython",
    "version": 3
   },
   "file_extension": ".py",
   "mimetype": "text/x-python",
   "name": "python",
   "nbconvert_exporter": "python",
   "pygments_lexer": "ipython3",
   "version": "3.10.2"
  },
  "orig_nbformat": 4,
  "vscode": {
   "interpreter": {
    "hash": "aee8b7b246df8f9039afb4144a1f6fd8d2ca17a180786b69acc140d282b71a49"
   }
  }
 },
 "nbformat": 4,
 "nbformat_minor": 2
}
