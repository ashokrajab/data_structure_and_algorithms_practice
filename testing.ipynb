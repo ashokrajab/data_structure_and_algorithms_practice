{
 "cells": [
  {
   "cell_type": "code",
   "execution_count": null,
   "metadata": {},
   "outputs": [],
   "source": [
    "from drawtree import draw_level_order\n",
    "draw_level_order('[4,1,null,2,null,3]'.replace('null','#'))\n"
   ]
  },
  {
   "cell_type": "code",
   "execution_count": 40,
   "metadata": {},
   "outputs": [
    {
     "data": {
      "text/plain": [
       "[1, 2, 3, 6, 9, 8, 7, 4]"
      ]
     },
     "execution_count": 40,
     "metadata": {},
     "output_type": "execute_result"
    }
   ],
   "source": [
    "from collections import defaultdict\n",
    "from typing import List\n",
    "class Solution:\n",
    "    def spiralOrder(self, matrix: List[List[int]]) -> List[int]:\n",
    "        TOP,BOTTOM,LEFT,RIGHT = 0,len(matrix)-1,0,len(matrix[0])-1\n",
    "        res = []\n",
    "        \n",
    "        while LEFT<RIGHT and TOP<BOTTOM:\n",
    "            for i in range(LEFT,RIGHT+1):\n",
    "                res.append(matrix[TOP][i])\n",
    "            TOP +=1\n",
    "            \n",
    "            for i in range(TOP,BOTTOM+1):\n",
    "                res.append(matrix[i][RIGHT])\n",
    "            RIGHT -=1\n",
    "            \n",
    "            for i in range(RIGHT,LEFT-1,-1):\n",
    "                res.append(matrix[BOTTOM][i])\n",
    "            BOTTOM -=1\n",
    "            \n",
    "            for i in range(BOTTOM,TOP-1,-1):\n",
    "                res.append(matrix[i][LEFT])\n",
    "            LEFT +=1\n",
    "        return res\n",
    "\n",
    "Solution().spiralOrder([[1,2,3],[4,5,6],[7,8,9]])"
   ]
  },
  {
   "cell_type": "code",
   "execution_count": 27,
   "metadata": {},
   "outputs": [
    {
     "data": {
      "text/plain": [
       "[[1, 2], [3, 10], [12, 16]]"
      ]
     },
     "execution_count": 27,
     "metadata": {},
     "output_type": "execute_result"
    }
   ],
   "source": [
    "from typing import List\n",
    "class Solution:\n",
    "    def insert(self, intervals: List[List[int]], newInterval: List[int]) -> List[List[int]]:\n",
    "        res = []\n",
    "        \n",
    "        for i in range(len(intervals)):\n",
    "            if newInterval[1] < intervals[i][0]:\n",
    "                res.append(newInterval)\n",
    "                return res + intervals[i:]\n",
    "            elif newInterval[0] > intervals[i][1]:\n",
    "                res.append(intervals[i])\n",
    "            else:\n",
    "                newInterval = [min(intervals[i][0],newInterval[0]),max(intervals[i][1],newInterval[1])]\n",
    "        \n",
    "        res.append(newInterval)\n",
    "            \n",
    "        return res\n",
    "Solution().insert(intervals = [[1,2],[3,5],[6,7],[8,10],[12,16]], newInterval = [4,8])"
   ]
  },
  {
   "cell_type": "code",
   "execution_count": 43,
   "metadata": {},
   "outputs": [
    {
     "ename": "TypeError",
     "evalue": "unsupported operand type(s) for ^: 'list' and 'list'",
     "output_type": "error",
     "traceback": [
      "\u001b[0;31m---------------------------------------------------------------------------\u001b[0m",
      "\u001b[0;31mTypeError\u001b[0m                                 Traceback (most recent call last)",
      "\u001b[1;32m/Users/ashok-4983/GitHub/data_structures_and_algorithms_practice/testing.ipynb Cell 4\u001b[0m in \u001b[0;36m<cell line: 1>\u001b[0;34m()\u001b[0m\n\u001b[0;32m----> <a href='vscode-notebook-cell:/Users/ashok-4983/GitHub/data_structures_and_algorithms_practice/testing.ipynb#ch0000005?line=0'>1</a>\u001b[0m [\u001b[39m0\u001b[39;49m,\u001b[39m1\u001b[39;49m,\u001b[39m3\u001b[39;49m] \u001b[39m^\u001b[39;49m[\u001b[39m0\u001b[39;49m,\u001b[39m1\u001b[39;49m,\u001b[39m2\u001b[39;49m,\u001b[39m3\u001b[39;49m]\n",
      "\u001b[0;31mTypeError\u001b[0m: unsupported operand type(s) for ^: 'list' and 'list'"
     ]
    }
   ],
   "source": [
    "[0,1,3]^[0,1,2,3]"
   ]
  }
 ],
 "metadata": {
  "kernelspec": {
   "display_name": "Python 3.10.2 64-bit",
   "language": "python",
   "name": "python3"
  },
  "language_info": {
   "codemirror_mode": {
    "name": "ipython",
    "version": 3
   },
   "file_extension": ".py",
   "mimetype": "text/x-python",
   "name": "python",
   "nbconvert_exporter": "python",
   "pygments_lexer": "ipython3",
   "version": "3.10.2"
  },
  "orig_nbformat": 4,
  "vscode": {
   "interpreter": {
    "hash": "aee8b7b246df8f9039afb4144a1f6fd8d2ca17a180786b69acc140d282b71a49"
   }
  }
 },
 "nbformat": 4,
 "nbformat_minor": 2
}
