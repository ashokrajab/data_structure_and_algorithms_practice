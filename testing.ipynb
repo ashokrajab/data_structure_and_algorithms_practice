{
 "cells": [
  {
   "cell_type": "code",
   "execution_count": null,
   "metadata": {},
   "outputs": [],
   "source": [
    "from drawtree import draw_level_order\n",
    "draw_level_order('[4,1,null,2,null,3]'.replace('null','#'))\n"
   ]
  },
  {
   "cell_type": "code",
   "execution_count": 1,
   "metadata": {},
   "outputs": [
    {
     "ename": "",
     "evalue": "",
     "output_type": "error",
     "traceback": [
      "\u001b[1;31mFailed to interrupt the Kernel. \n",
      "No debugger available, can not send 'disconnect'. \n",
      "View Jupyter <a href='command:jupyter.viewOutput'>log</a> for further details."
     ]
    }
   ],
   "source": [
    "from collections import deque\n",
    "class TreeNode:\n",
    "    def __init__(self, val):\n",
    "        self.val = val\n",
    "        self.left = None\n",
    "        self.right = None\n",
    "\n",
    "# Function to insert nodes in level order\n",
    "def insertLevelOrder(arr, i, n):\n",
    "    root = None\n",
    "    # Base case for recursion\n",
    "    if i < n:\n",
    "        root = TreeNode(arr[i]) if arr[i] != None else None\n",
    "        if root == None:\n",
    "            return root\n",
    "        # insert left child\n",
    "        root.left = insertLevelOrder(arr, 2 * i + 1, n)\n",
    "        # insert right child\n",
    "        root.right = insertLevelOrder(arr, 2 * i + 2, n)\n",
    "    return root\n",
    "\n",
    "\n",
    "class Codec:\n",
    "\n",
    "    def serialize(self, root):\n",
    "        \"\"\"Encodes a tree to a single string.\n",
    "        \n",
    "        :type root: TreeNode\n",
    "        :rtype: str\n",
    "        \"\"\"\n",
    "        output = []\n",
    "        q = deque()\n",
    "        q.append(root)\n",
    "        while q:\n",
    "            q_len = len(q)\n",
    "            for i in range(q_len):\n",
    "                node = q.popleft()\n",
    "                if node != None:\n",
    "                    output.append(str(node.val))\n",
    "                else:\n",
    "                    output.append(str(node))\n",
    "                q.append(node.left if node else None)\n",
    "                q.append(node.right if node else None)\n",
    "        s = \",\".join(output)\n",
    "        print(s)\n",
    "        return s\n",
    "        \n",
    "    def buildTree(self, nodes, idx, length):\n",
    "        root = None\n",
    "        \n",
    "        if idx < length:\n",
    "            if nodes[idx] == \"None\":\n",
    "                root = None\n",
    "            else:\n",
    "                root = TreeNode(int(nodes[idx]))\n",
    "            \n",
    "            if root == None:\n",
    "                return root\n",
    "            \n",
    "            root.left = self.buildTree(nodes,2*idx +1, length)\n",
    "            root.right = self.buildTree(nodes, 2*idx +2, length)\n",
    "        \n",
    "        return root\n",
    "    \n",
    "    def deserialize(self, data):\n",
    "        \"\"\"Decodes your encoded data to tree.\n",
    "        \n",
    "        :type data: str\n",
    "        :rtype: TreeNode\n",
    "        \"\"\"\n",
    "        nodes = data.split(\",\")\n",
    "        return self.buildTree(nodes, 0, len(nodes))\n",
    "        \n",
    "null = None\n",
    "arr = [1,2,3,null,null,4,5]\n",
    "root = insertLevelOrder(arr, 0, len(arr))\n",
    "Codec().serialize(root)"
   ]
  },
  {
   "cell_type": "code",
   "execution_count": 13,
   "metadata": {},
   "outputs": [
    {
     "ename": "TypeError",
     "evalue": "sequence item 0: expected str instance, int found",
     "output_type": "error",
     "traceback": [
      "\u001b[0;31m---------------------------------------------------------------------------\u001b[0m",
      "\u001b[0;31mTypeError\u001b[0m                                 Traceback (most recent call last)",
      "\u001b[1;32m/Users/ashok-4983/GitHub/data_structures_and_algorithms_practice/testing.ipynb Cell 3\u001b[0m in \u001b[0;36m<cell line: 2>\u001b[0;34m()\u001b[0m\n\u001b[1;32m      <a href='vscode-notebook-cell:/Users/ashok-4983/GitHub/data_structures_and_algorithms_practice/testing.ipynb#ch0000003?line=0'>1</a>\u001b[0m a \u001b[39m=\u001b[39m [\u001b[39m1\u001b[39m, \u001b[39mNone\u001b[39;00m,\u001b[39m2\u001b[39m]\n\u001b[0;32m----> <a href='vscode-notebook-cell:/Users/ashok-4983/GitHub/data_structures_and_algorithms_practice/testing.ipynb#ch0000003?line=1'>2</a>\u001b[0m \u001b[39m\"\u001b[39;49m\u001b[39m\"\u001b[39;49m\u001b[39m.\u001b[39;49mjoin(a)\n",
      "\u001b[0;31mTypeError\u001b[0m: sequence item 0: expected str instance, int found"
     ]
    }
   ],
   "source": [
    "a = [1, None,2]\n",
    "\"\".join(a)"
   ]
  },
  {
   "cell_type": "code",
   "execution_count": 16,
   "metadata": {},
   "outputs": [
    {
     "ename": "ValueError",
     "evalue": "invalid literal for int() with base 10: 'None'",
     "output_type": "error",
     "traceback": [
      "\u001b[0;31m---------------------------------------------------------------------------\u001b[0m",
      "\u001b[0;31mValueError\u001b[0m                                Traceback (most recent call last)",
      "\u001b[1;32m/Users/ashok-4983/GitHub/data_structures_and_algorithms_practice/testing.ipynb Cell 4\u001b[0m in \u001b[0;36m<cell line: 1>\u001b[0;34m()\u001b[0m\n\u001b[0;32m----> <a href='vscode-notebook-cell:/Users/ashok-4983/GitHub/data_structures_and_algorithms_practice/testing.ipynb#ch0000004?line=0'>1</a>\u001b[0m \u001b[39mint\u001b[39;49m(\u001b[39m'\u001b[39;49m\u001b[39mNone\u001b[39;49m\u001b[39m'\u001b[39;49m)\n",
      "\u001b[0;31mValueError\u001b[0m: invalid literal for int() with base 10: 'None'"
     ]
    }
   ],
   "source": [
    "int('None')"
   ]
  }
 ],
 "metadata": {
  "kernelspec": {
   "display_name": "Python 3.9.13 ('ds_algo')",
   "language": "python",
   "name": "python3"
  },
  "language_info": {
   "codemirror_mode": {
    "name": "ipython",
    "version": 3
   },
   "file_extension": ".py",
   "mimetype": "text/x-python",
   "name": "python",
   "nbconvert_exporter": "python",
   "pygments_lexer": "ipython3",
   "version": "3.9.13"
  },
  "orig_nbformat": 4,
  "vscode": {
   "interpreter": {
    "hash": "d6e6534732b0cc6de321123fbc0e1bab54051c5ddbdc5cde537ca817e83f04c4"
   }
  }
 },
 "nbformat": 4,
 "nbformat_minor": 2
}
