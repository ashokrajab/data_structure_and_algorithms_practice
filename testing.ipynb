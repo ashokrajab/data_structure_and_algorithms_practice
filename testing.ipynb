{
 "cells": [
  {
   "cell_type": "code",
   "execution_count": 2,
   "metadata": {},
   "outputs": [
    {
     "data": {
      "text/plain": [
       "False"
      ]
     },
     "execution_count": 2,
     "metadata": {},
     "output_type": "execute_result"
    }
   ],
   "source": [
    "from collections import defaultdict\n",
    "from typing import List\n",
    "class Solution:\n",
    "    def increasingTriplet(self, nums: List[int]) -> bool:\n",
    "        monotonic_stack = []\n",
    "        nums_len = len(nums)\n",
    "        for i, num in enumerate(nums):\n",
    "            no_of_elements_left = nums_len - i\n",
    "            while monotonic_stack and monotonic_stack[-1] >= num and len(monotonic_stack)-1 + no_of_elements_left >=3:\n",
    "                monotonic_stack.pop()\n",
    "            if not monotonic_stack or num > monotonic_stack[-1]:\n",
    "                monotonic_stack.append(num)\n",
    "            \n",
    "            if len(monotonic_stack) == 3:\n",
    "                return True\n",
    "        return False\n",
    "Solution().increasingTriplet([20,100,10,12,5,13])"
   ]
  },
  {
   "cell_type": "code",
   "execution_count": 13,
   "metadata": {},
   "outputs": [],
   "source": [
    "# Definition for a binary tree node.\n",
    "class TreeNode:\n",
    "    def __init__(self, x):\n",
    "        self.val = x\n",
    "        self.left = None\n",
    "        self.right = None\n",
    "\n",
    "def insertLevelOrder(arr, i, n):\n",
    "\troot = None\n",
    "\tif i < n:\n",
    "\t\troot = TreeNode(arr[i])\n",
    "\t\troot.left = insertLevelOrder(arr, 2 * i + 1, n)\n",
    "\t\troot.right = insertLevelOrder(arr, 2 * i + 2, n)\n",
    "\treturn root\n",
    "\n",
    "null = None\n",
    "arr = [3, 5, 1, 6, 2, 0, 8, null, null, 7, 4]\n",
    "n = len(arr)\n",
    "root = insertLevelOrder(arr, 0, n)"
   ]
  },
  {
   "cell_type": "code",
   "execution_count": 18,
   "metadata": {},
   "outputs": [
    {
     "data": {
      "text/plain": [
       "5"
      ]
     },
     "execution_count": 18,
     "metadata": {},
     "output_type": "execute_result"
    }
   ],
   "source": [
    "class Solution:\n",
    "    def lowestCommonAncestor(self, root: 'TreeNode', p: 'TreeNode', q: 'TreeNode') -> 'TreeNode':\n",
    "        ans = None \n",
    "        def postOrder(node):\n",
    "            nonlocal ans\n",
    "            if not node or ans:\n",
    "                return False, False\n",
    "            \n",
    "            lsub_found_p, lsub_found_q = postOrder(node.left)\n",
    "            rsub_found_p, rsub_found_q = postOrder(node.right)\n",
    "            \n",
    "            found_p, found_q = False, False\n",
    "            if node.val == p.val:\n",
    "                found_p = True\n",
    "            elif node.val == q.val:\n",
    "                found_q = True\n",
    "            \n",
    "            if (lsub_found_p or rsub_found_p or found_p) and (lsub_found_q or rsub_found_q or found_q) and not ans:\n",
    "                ans = node\n",
    "\n",
    "            return (lsub_found_p or rsub_found_p or found_p), (lsub_found_q or rsub_found_q or found_q)\n",
    "        \n",
    "        postOrder(root)\n",
    "        return ans\n",
    "            \n",
    "ans = Solution().lowestCommonAncestor(root,TreeNode(5),TreeNode(6))\n",
    "ans.val"
   ]
  },
  {
   "cell_type": "code",
   "execution_count": 49,
   "metadata": {},
   "outputs": [
    {
     "data": {
      "text/plain": [
       "1"
      ]
     },
     "execution_count": 49,
     "metadata": {},
     "output_type": "execute_result"
    }
   ],
   "source": [
    "import random\n",
    "random.randint(0,1)"
   ]
  }
 ],
 "metadata": {
  "kernelspec": {
   "display_name": "Python 3.9.13 ('ds_algo')",
   "language": "python",
   "name": "python3"
  },
  "language_info": {
   "codemirror_mode": {
    "name": "ipython",
    "version": 3
   },
   "file_extension": ".py",
   "mimetype": "text/x-python",
   "name": "python",
   "nbconvert_exporter": "python",
   "pygments_lexer": "ipython3",
   "version": "3.9.13"
  },
  "orig_nbformat": 4,
  "vscode": {
   "interpreter": {
    "hash": "d6e6534732b0cc6de321123fbc0e1bab54051c5ddbdc5cde537ca817e83f04c4"
   }
  }
 },
 "nbformat": 4,
 "nbformat_minor": 2
}
